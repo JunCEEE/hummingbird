{
 "cells": [
  {
   "cell_type": "code",
   "execution_count": null,
   "metadata": {
    "collapsed": false
   },
   "outputs": [],
   "source": [
    "import numpy as np\n",
    "import scipy as sp\n",
    "import scipy.misc as misc\n",
    "import scipy.ndimage as ndi\n",
    "import matplotlib.pyplot as plt\n",
    "%matplotlib notebook"
   ]
  },
  {
   "cell_type": "code",
   "execution_count": null,
   "metadata": {
    "collapsed": true
   },
   "outputs": [],
   "source": [
    "nrs = [1]\n",
    "filename = '../camera/pos%d.bmp' \n",
    "filenames = [filename %r for r in nrs]"
   ]
  },
  {
   "cell_type": "code",
   "execution_count": null,
   "metadata": {
    "collapsed": false
   },
   "outputs": [],
   "source": [
    "images = [misc.imread(f).mean(axis=2) for f in filenames]"
   ]
  },
  {
   "cell_type": "code",
   "execution_count": null,
   "metadata": {
    "collapsed": false
   },
   "outputs": [],
   "source": [
    "mask = np.zeros(images[0].shape)\n",
    "mask[300:500,350:650] = 1"
   ]
  },
  {
   "cell_type": "code",
   "execution_count": null,
   "metadata": {
    "collapsed": true
   },
   "outputs": [],
   "source": [
    "diameter = 1.5 # mm\n",
    "diameter_px = 2.*np.sqrt(697. / np.pi)\n",
    "pixelsize = diameter / float(diameter_px)"
   ]
  },
  {
   "cell_type": "code",
   "execution_count": null,
   "metadata": {
    "collapsed": false
   },
   "outputs": [],
   "source": [
    "index = 0"
   ]
  },
  {
   "cell_type": "code",
   "execution_count": null,
   "metadata": {
    "collapsed": false
   },
   "outputs": [],
   "source": [
    "cxs = []\n",
    "cys = []\n",
    "Ns  = []\n",
    "Bs  = []\n",
    "for i in range(len(images)):\n",
    "    image  = images[index]\n",
    "    imagec = ndi.gaussian_filter(image - np.median(image), 2)\n",
    "    binary = (imagec*mask)>5\n",
    "    Bs.append(binary)\n",
    "    Ns.append(binary.sum())\n",
    "    cy,cx  = ndi.measurements.center_of_mass(binary)\n",
    "    cxs.append(cx*pixelsize)\n",
    "    cys.append(cy*pixelsize)\n",
    "cx_array = np.array(cxs)\n",
    "cy_array = np.array(cys)\n",
    "Ns_array = np.array(Ns)\n",
    "B_array  = np.array(Bs)"
   ]
  },
  {
   "cell_type": "code",
   "execution_count": null,
   "metadata": {
    "collapsed": false
   },
   "outputs": [],
   "source": [
    "k = 0\n",
    "plt.figure()\n",
    "plt.scatter([cx_array[k]/pixelsize],[cy_array[k]/pixelsize], 10, color='r')\n",
    "plt.imshow(images[k], vmin=0, vmax=50, cmap='gray')\n",
    "plt.show()"
   ]
  },
  {
   "cell_type": "code",
   "execution_count": null,
   "metadata": {
    "collapsed": false
   },
   "outputs": [],
   "source": [
    "plt.figure()\n",
    "plt.plot(range(cx_array.shape[0]), cx_array-cx_array[0], label='horizontal')\n",
    "plt.plot(range(cy_array.shape[0]), cy_array-cy_array[0], label='vertical')\n",
    "plt.ylabel('Distance [mm]')\n",
    "plt.xlabel('Position index')\n",
    "plt.legend()\n",
    "plt.show()"
   ]
  },
  {
   "cell_type": "code",
   "execution_count": null,
   "metadata": {
    "collapsed": true
   },
   "outputs": [],
   "source": []
  }
 ],
 "metadata": {
  "kernelspec": {
   "display_name": "Python 2",
   "language": "python",
   "name": "python2"
  },
  "language_info": {
   "codemirror_mode": {
    "name": "ipython",
    "version": 2
   },
   "file_extension": ".py",
   "mimetype": "text/x-python",
   "name": "python",
   "nbconvert_exporter": "python",
   "pygments_lexer": "ipython2",
   "version": "2.7.10"
  }
 },
 "nbformat": 4,
 "nbformat_minor": 1
}
